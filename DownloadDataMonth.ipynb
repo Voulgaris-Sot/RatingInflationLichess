{
 "cells": [
  {
   "cell_type": "markdown",
   "metadata": {},
   "source": [
    "## How it works\n",
    "This notebook downloads the pgn from lichess-db and then parses it to a csv.  \n",
    "The pgn is compressed and then resulting pgn is around 10 times bigger. For the most recent months this would result in a 250GB pgn file for each month. Because we only want and evaluated games we don't need to parse all the games.   \n",
    "We initially process the bz2 file (the pbzip2 is faster if many cpus because it runs on parallel) and remove all the headers that we don't want and then keep only the games with an \\[\\%eval tag. This will fail if there are any unexpected headers. The result is a pgn with only the games that were evaluated.  \n",
    "  \n",
    "Then we parse each game line by line, calculate the acpl and finally save the result to a csv. Note that this might result in some NaN in order to save time.  \n",
    "\n",
    "This notebook was used in Google Colab  \n"
   ]
  },
  {
   "cell_type": "code",
   "execution_count": null,
   "metadata": {
    "colab": {
     "base_uri": "https://localhost:8080/"
    },
    "id": "ul__eiApMKnx",
    "outputId": "210c56fd-ed52-4b8a-a8e3-3ceb8d14af54"
   },
   "outputs": [],
   "source": [
    "#download compressed pgn\n",
    "!curl -O https://database.lichess.org/standard/lichess_db_standard_rated_2020-11.pgn.bz2\n"
   ]
  },
  {
   "cell_type": "code",
   "execution_count": null,
   "metadata": {
    "colab": {
     "base_uri": "https://localhost:8080/"
    },
    "id": "l-0_6K8hLZCr",
    "outputId": "65357fda-ee51-4f9f-bd88-5f11b09a0ae5"
   },
   "outputs": [],
   "source": [
    "#If you use colab and want to parse lichess_db_standard_rated_2021-11.pgn.bz2 this can take 2 or 3 hours.\n",
    "\n",
    "#faster with pbzip2\n",
    "# !apt-get install -y pbzip2\n",
    "# !LC_ALL=C pbzip2 -d -c lichess_db_standard_rated_2020-11.pgn.bz2 | sed '/\\[White \"/d; /\\[Black \"/d; /\\[Annotator/d; /\\[Time/d;  /\\[Variant/d;  /\\[Date/d; /\\[ECO/d; /\\[Round/d;  /\\[Opening/d;  /\\[BlackRatingDiff/d; /\\[WhiteRatingDiff/d; /\\[BlackTitle/d; /\\[WhiteTitle/d;' | fgrep -B 9 '[%eval'  > temp.pgn\n",
    "\n",
    "!LC_ALL=C bzcat lichess_db_standard_rated_2021-11.pgn.bz2 | sed '/\\[White \"/d; /\\[Black \"/d; /\\[Annotator/d; /\\[Time/d;  /\\[Variant/d;  /\\[Date/d; /\\[ECO/d; /\\[Round/d;  /\\[Opening/d;  /\\[BlackRatingDiff/d; /\\[WhiteRatingDiff/d; /\\[BlackTitle/d; /\\[WhiteTitle/d;' | fgrep -B 9 '[%eval'  > test101.pgn"
   ]
  },
  {
   "cell_type": "code",
   "execution_count": null,
   "metadata": {
    "id": "T3RHqk32Mmgc"
   },
   "outputs": [],
   "source": [
    "import numpy as np\n",
    "import re\n",
    "from tqdm import tqdm\n",
    "import os\n",
    "from bz2 import BZ2File as bzopen\n",
    "from datetime import datetime\n",
    "from collections import deque\n"
   ]
  },
  {
   "cell_type": "code",
   "execution_count": null,
   "metadata": {
    "id": "YUBgQnMtMp2H"
   },
   "outputs": [],
   "source": [
    "#from https://github.com/jcw024/lichess_database_ETL/blob/main/src/data_process_util.py\n",
    "\n",
    "#use it if you want to directly read the bzip file\n",
    "def read_lines_bzip(bzip_file):\n",
    "    \"\"\"takes a bzip file path and returns a generator that yields each line in the file\"\"\"\n",
    "    with bzopen(bzip_file,\"r\") as bzfin:\n",
    "        game_data = []\n",
    "        for i, line in enumerate(bzfin):\n",
    "            yield line\n",
    "            \n",
    "def read_lines_pgn(pgn):\n",
    "    \"\"\"takes a bzip file path and returns a generator that yields each line in the file\"\"\"\n",
    "    with open(pgn,\"r\") as f:\n",
    "        for line in f:\n",
    "            yield line"
   ]
  },
  {
   "cell_type": "code",
   "execution_count": null,
   "metadata": {
    "id": "Tg9DpJhaMrxn"
   },
   "outputs": [],
   "source": [
    "#adapted from https://github.com/jcw024/lichess_database_ETL/blob/main/src/data_process_util.py\n",
    "\n",
    "def format_data(key, val):\n",
    "    \"\"\"takes in lichess game key and value and formats the data prior to writing it to the database\"\"\"\n",
    "    if key == \"Event\":\n",
    "        if \"bullet\" in val.lower():\n",
    "            val = 'b'\n",
    "        elif \"blitz\" in val.lower():\n",
    "            val = 'B'\n",
    "        elif \"standard\" in val.lower() or \"rapid\" in val.lower():\n",
    "            val = 'R'\n",
    "        elif \"classical\" in val.lower():\n",
    "            val = 'c'\n",
    "        elif \"correspondence\" in val.lower():\n",
    "            val = 'C'\n",
    "        else:\n",
    "            val = '?'\n",
    "    elif key == \"UTCDate\":\n",
    "        val = datetime.strptime(val, '%Y.%m.%d').date()\n",
    "    elif key == \"UTCTime\":\n",
    "        val = datetime.strptime(val, '%H:%M:%S').time()\n",
    "    elif key == \"Site\":\n",
    "        val = re.search(\"org/(.*)\", val).group(1)\n",
    "    elif key in (\"WhiteElo\", \"BlackElo\"):\n",
    "        if \"?\" in val:  #if any player is \"anonymous\" or has provisional rating, \n",
    "            val = None  #elo data will be NULL.\n",
    "        else:\n",
    "            val = int(val)\n",
    "    elif key == \"Termination\":\n",
    "        if val == \"Normal\": val = 'N'\n",
    "        elif val == \"Time forfeit\": val = 'F'\n",
    "        elif val == \"Abandoned\": val = 'A'\n",
    "        else: val = '?'     #usually means cheater detected (Rules infraction)\n",
    "    elif key == \"Result\":\n",
    "        if val == \"1/2-1/2\":\n",
    "            val = 'D'\n",
    "        elif val == \"1-0\":\n",
    "            val = 'W'\n",
    "        elif val == \"0-1\":\n",
    "            val = 'B'\n",
    "        else:\n",
    "            val = '?'\n",
    "    return (key, val)"
   ]
  },
  {
   "cell_type": "code",
   "execution_count": null,
   "metadata": {
    "id": "tH9uZvxoMvUG"
   },
   "outputs": [],
   "source": [
    "def cplStatistics(centipawns):\n",
    "    diff = np.diff(centipawns)\n",
    "    \n",
    "    w = diff[::2].copy()\n",
    "    w[w>0] = 0 #new move cannot lead to better position\n",
    "    \n",
    "    b = diff[1::2]\n",
    "    b[b<0] = 0 #new move cannot lead to better position\n",
    "    \n",
    "    return -np.mean(w), np.mean(b), np.std(w), np.std(b)\n",
    "\n",
    "def extractStatistics(line):\n",
    "    \n",
    "    #extract evaluations\n",
    "    #note that lichess only analyses the first 100 moves (200 ply)\n",
    "\n",
    "    evals = re.findall(\"\\[%eval\\s([+-]?\\d+.\\d+)|(#[+-]?\\d+)\\]\", line) #+ in [+-]? is not necessary\n",
    "    evals = [a+b for a,b in evals] #combine groups\n",
    "\n",
    "    #evals to centipawn\n",
    "\n",
    "    #start with 15 to match lichess calculations (https://github.com/lichess-org/lila/discussions/8867)\n",
    "    #It could be 35 to match initial eval for e4.\n",
    "    #centipawn loss is capped at +-1000\n",
    "    centipawns = [15] \n",
    "    for e in evals:\n",
    "        if '#-' in e:\n",
    "            centipawns.append(-CENTIPAWN_CAP)\n",
    "        elif '#' in e:\n",
    "            centipawns.append(CENTIPAWN_CAP)\n",
    "        else:\n",
    "            #python-chess uses int to cast from float and not round\n",
    "            #https://github.com/niklasf/python-chess/blob/master/chess/pgn.py\n",
    "            #isn't round more accurate?\n",
    "            centipawns.append(max(min(int(float(e)*100),CENTIPAWN_CAP),-CENTIPAWN_CAP))\n",
    "\n",
    "    return len(evals), cplStatistics(centipawns)"
   ]
  },
  {
   "cell_type": "code",
   "execution_count": null,
   "metadata": {
    "colab": {
     "base_uri": "https://localhost:8080/"
    },
    "id": "uDE3-gZWMw4-",
    "outputId": "725e9aa4-d9eb-4b96-bd01-8153faaad766"
   },
   "outputs": [],
   "source": [
    "#Note that with the preprocessing we have ensured that we only have the relevant headers and only evaluated games\n",
    "#if that not the case include the relevant commented lines\n",
    "Datapath = './'\n",
    "filename = 'temp.pgn'\n",
    "filepath = os.path.join(Datapath,filename)\n",
    "\n",
    "# lines = read_lines(filepath) #use if bzip file\n",
    "lines = read_lines_pgn(filepath)\n",
    "\n",
    "\n",
    "i = 0 \n",
    "game = {}\n",
    "all_games = deque()\n",
    "relevant_headers = [\"Event\", \"Site\", \"Result\", \"UTCDate\", \"UTCTime\", \n",
    "                   \"WhiteElo\", \"BlackElo\", \"Termination\"]\n",
    "CENTIPAWN_CAP = 1000\n",
    "\n",
    "for line in tqdm(lines):\n",
    "    if len(line) <= 1: continue\n",
    "    # line = line.decode('utf-8') #decode if you are using bzip file\n",
    "    if line == '\\n' or line[0] == ' ': continue\n",
    "        \n",
    "    #try to capture the headers of the game\n",
    "    try:\n",
    "        key = re.search(\"\\[(.*?) \",line).group(1)\n",
    "        val = re.search(\" \\\"(.*?)\\\"\\]\", line).group(1)\n",
    "        # if key not in relevant_headers: continue    #skip irrelevant or unforseen data \n",
    "        \n",
    "        key, val = format_data(key, val)\n",
    "        game[key] = val\n",
    "    except AttributeError:\n",
    "        #regex failed so we are probably at a game line\n",
    "        pass\n",
    "\n",
    "    #process the game evaluation\n",
    "    if line[0] == '1':\n",
    "\n",
    "        #only keep analyzed games\n",
    "        # if '[%eval' in line:\n",
    "        gameLength, (whiteACPL, blackACPL, whiteSTDCPL, blackSTDCPL) = extractStatistics(line)\n",
    "        \n",
    "        game['gameLength'] = gameLength\n",
    "        game['whiteACPL'] = whiteACPL\n",
    "        game['blackACPL'] = blackACPL\n",
    "        game['whiteSTDCPL'] = whiteSTDCPL\n",
    "        game['blackSTDCPL'] = blackSTDCPL\n",
    "        \n",
    "        all_games.append(game)\n",
    "\n",
    "            \n",
    "        game = {}\n"
   ]
  },
  {
   "cell_type": "code",
   "execution_count": null,
   "metadata": {
    "id": "YmivfNdfTKKo"
   },
   "outputs": [],
   "source": [
    "#export to csv\n",
    "import csv\n",
    "\n",
    "with open('lichess_db_analyzed_2020-11.csv', 'w', encoding='utf8', newline='') as output_file:\n",
    "    fc = csv.DictWriter(output_file, \n",
    "                        fieldnames=all_games[0].keys(),\n",
    "\n",
    "                       )\n",
    "    fc.writeheader()\n",
    "    fc.writerows(all_games)\n",
    "\n",
    "#or else use pandas but of course uses more memory\n",
    "#import pandas as pd\n",
    "#df = pd.DataFrame(all_games)\n",
    "#df.to_csv(\"XXX.csv\", encoding='utf-8', index=False)"
   ]
  },
  {
   "cell_type": "code",
   "execution_count": null,
   "metadata": {
    "colab": {
     "base_uri": "https://localhost:8080/",
     "height": 17
    },
    "id": "epDT_62bHA1m",
    "outputId": "a27795d6-71d0-4793-e77e-cfd5c9145e60"
   },
   "outputs": [],
   "source": [
    "#Finally download the csv from colab \n",
    "from google.colab import files\n",
    "files.download('lichess_db_analyzed_2020-11.csv')"
   ]
  },
  {
   "cell_type": "code",
   "execution_count": null,
   "metadata": {
    "id": "rVgpYtUIKMYP"
   },
   "outputs": [],
   "source": []
  }
 ],
 "metadata": {
  "colab": {
   "collapsed_sections": [],
   "name": "ProcessDB4.ipynb",
   "provenance": []
  },
  "kernelspec": {
   "display_name": "Python 3",
   "language": "python",
   "name": "python3"
  },
  "language_info": {
   "codemirror_mode": {
    "name": "ipython",
    "version": 3
   },
   "file_extension": ".py",
   "mimetype": "text/x-python",
   "name": "python",
   "nbconvert_exporter": "python",
   "pygments_lexer": "ipython3",
   "version": "3.8.5"
  }
 },
 "nbformat": 4,
 "nbformat_minor": 1
}
